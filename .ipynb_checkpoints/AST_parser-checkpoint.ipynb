{
 "cells": [
  {
   "cell_type": "code",
   "execution_count": 8,
   "id": "138ca1aa",
   "metadata": {},
   "outputs": [
    {
     "name": "stdout",
     "output_type": "stream",
     "text": [
      "FileAST: \n",
      "  FuncDef: \n",
      "    Decl: main, [], [], [], []\n",
      "      FuncDecl: \n",
      "        ParamList: \n",
      "          Typename: None, [], None\n",
      "            TypeDecl: None, [], None\n",
      "              IdentifierType: ['void']\n",
      "        TypeDecl: main, [], None\n",
      "          IdentifierType: ['int']\n",
      "    Compound: \n",
      "      Decl: i, [], [], [], []\n",
      "        TypeDecl: i, [], None\n",
      "          IdentifierType: ['int']\n",
      "      Decl: ar, [], [], [], []\n",
      "        ArrayDecl: []\n",
      "          TypeDecl: ar, [], None\n",
      "            IdentifierType: ['char']\n",
      "          Constant: int, 100\n",
      "      BinaryOp: *\n",
      "        ID: FILE\n",
      "        ID: f\n",
      "      BinaryOp: *\n",
      "        ID: FILE\n",
      "        ID: file\n",
      "      FuncCall: \n",
      "        ID: system\n",
      "        ExprList: \n",
      "          Constant: string, \"wget -O first www.rmit.edu./students\"\n",
      "      While: \n",
      "        Constant: int, 1\n",
      "        Compound: \n",
      "          FuncCall: \n",
      "            ID: system\n",
      "            ExprList: \n",
      "              Constant: string, \"wget -p --convert-links http://www.cs.rmit.edu./students/\"\n",
      "      Return: \n",
      "        Constant: int, 0\n"
     ]
    }
   ],
   "source": [
    "# Save this as parse_c.py\n",
    "from pycparser import c_parser\n",
    "\n",
    "# Example C code as a string\n",
    "c_code = \"\"\"\n",
    "int main(void)\n",
    "{\n",
    "    int i;\n",
    "    char ar[100];\n",
    "    FILE* f;\n",
    "    FILE* file;\n",
    "    system(\"wget -O first www.rmit.edu./students\");  \n",
    "    while(1)\n",
    "    {\n",
    "       system(\"wget -p --convert-links http://www.cs.rmit.edu./students/\");\n",
    "       system(\"mkdir home\");\n",
    "       system(\"mv www.cs.rmit.edu./images/*.*   home/\");\n",
    "       system(\"mv www.cs.rmit.edu./students/*.* home/\");\n",
    "       system(\"cd www.cs.rmit.edu./images\");\n",
    "       sleep(1);\n",
    "\n",
    "    }\n",
    "    return 0;\n",
    "}\n",
    "\"\"\"\n",
    "\n",
    "# Create a parser\n",
    "parser = c_parser.CParser()\n",
    "\n",
    "# Parse the C code string\n",
    "ast = parser.parse(c_code)\n",
    "\n",
    "# Now, you can print the AST or work with it\n",
    "ast.show()\n"
   ]
  },
  {
   "cell_type": "code",
   "execution_count": null,
   "id": "fa97f0b3",
   "metadata": {},
   "outputs": [],
   "source": []
  }
 ],
 "metadata": {
  "kernelspec": {
   "display_name": "Python 3 (ipykernel)",
   "language": "python",
   "name": "python3"
  },
  "language_info": {
   "codemirror_mode": {
    "name": "ipython",
    "version": 3
   },
   "file_extension": ".py",
   "mimetype": "text/x-python",
   "name": "python",
   "nbconvert_exporter": "python",
   "pygments_lexer": "ipython3",
   "version": "3.10.9"
  }
 },
 "nbformat": 4,
 "nbformat_minor": 5
}
